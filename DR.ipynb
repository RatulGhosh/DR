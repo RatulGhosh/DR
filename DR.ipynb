{
 "cells": [
  {
   "cell_type": "code",
   "execution_count": 13,
   "metadata": {},
   "outputs": [],
   "source": [
    "%matplotlib inline\n",
    "\n",
    "import numpy as np\n",
    "import tensorflow as tf\n",
    "import matplotlib.pyplot as plt\n",
    "from PIL import Image\n",
    "import scipy as sc\n",
    "from skimage import transform"
   ]
  },
  {
   "cell_type": "code",
   "execution_count": 14,
   "metadata": {
    "collapsed": true
   },
   "outputs": [],
   "source": [
    "from os import listdir\n",
    "from os.path import isfile, join\n",
    "path1 = 'data/symptoms_new/'\n",
    "path2 = 'data/nosymptoms_new/'\n",
    "file_pos = [path1+f for f in listdir(path1) if isfile(join(path1, f)) and f[-4:] == 'jpeg']\n",
    "file_neg = [path2+f for f in listdir(path2) if isfile(join(path2, f)) and f[-4:] == 'jpeg']"
   ]
  },
  {
   "cell_type": "code",
   "execution_count": 15,
   "metadata": {},
   "outputs": [
    {
     "data": {
      "text/plain": [
       "(595, 1468)"
      ]
     },
     "execution_count": 15,
     "metadata": {},
     "output_type": "execute_result"
    }
   ],
   "source": [
    "len(file_pos), len(file_neg)"
   ]
  },
  {
   "cell_type": "code",
   "execution_count": 24,
   "metadata": {},
   "outputs": [],
   "source": [
    "import pandas as pd\n",
    "file1 = pd.DataFrame()\n",
    "file1['location'] = file_pos\n",
    "file1['label'] = 1\n",
    "\n",
    "file2 = pd.DataFrame()\n",
    "file2['location'] = file_neg\n",
    "file2['label'] = 0\n",
    "file = pd.concat([file1, file2], axis=0)\n",
    "file = file.sample(frac=1)"
   ]
  },
  {
   "cell_type": "code",
   "execution_count": 26,
   "metadata": {},
   "outputs": [],
   "source": [
    "file_names = file.location\n",
    "data = []\n",
    "for file in file_names:\n",
    "    img = sc.ndimage.imread(file)\n",
    "    image = np.dot(img[...,:3], [0.299, 0.587, 0.114])\n",
    "    data.append(image)\n",
    "data = np.array(data)"
   ]
  },
  {
   "cell_type": "code",
   "execution_count": 32,
   "metadata": {},
   "outputs": [],
   "source": [
    "#normalize\n",
    "data = data/255"
   ]
  },
  {
   "cell_type": "code",
   "execution_count": null,
   "metadata": {
    "collapsed": true
   },
   "outputs": [],
   "source": []
  }
 ],
 "metadata": {
  "kernelspec": {
   "display_name": "Python 3",
   "language": "python",
   "name": "python3"
  },
  "language_info": {
   "codemirror_mode": {
    "name": "ipython",
    "version": 3
   },
   "file_extension": ".py",
   "mimetype": "text/x-python",
   "name": "python",
   "nbconvert_exporter": "python",
   "pygments_lexer": "ipython3",
   "version": "3.6.3"
  }
 },
 "nbformat": 4,
 "nbformat_minor": 2
}
